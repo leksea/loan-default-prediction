{
  "cells": [
    {
      "cell_type": "markdown",
      "id": "72b09740-9874-42e9-8731-7b5f2290620c",
      "metadata": {
        "id": "72b09740-9874-42e9-8731-7b5f2290620c"
      },
      "source": [
        "# Loan Default Prediction\n",
        "\n",
        "**Project Overview**\n",
        "\n",
        "Build a predictive model that assigns default probabilities to loan applications.\n",
        "Minimize nancial risk by accurately predicting the likelihood of loan defaults, enabling\n",
        "more informed and strategic lending decisions."
      ]
    },
    {
      "cell_type": "markdown",
      "id": "f08de959-f2f8-4d01-8a79-ca1100cde3b4",
      "metadata": {
        "id": "f08de959-f2f8-4d01-8a79-ca1100cde3b4"
      },
      "source": [
        "# Notebook Structure\n",
        "---\n",
        "<details>\n",
        "<summary><b>1. Business Problem and Objectives</b></summary>\n",
        "   Define the problem being addressed and its relevance to real-world scenarios.\n",
        "</details>\n",
        "\n",
        "---\n",
        "\n",
        "<details>\n",
        "<summary><b>2. Data Acquisition and Preparation</b></summary>\n",
        "\n",
        "- ### **2.1 Data Source and Download**  \n",
        "  Explanation of the dataset source and how it was obtained.  \n",
        "\n",
        "- ### **2.2 Installing Required Modules**  \n",
        "  List and install the libraries needed for the project.  \n",
        "\n",
        "- ### **2.3 Importing Modules and Global Variables**  \n",
        "  Set up imports and define constants or global variables.  \n",
        "\n",
        "- ### **2.4 Defining Supplemental Functions**  \n",
        "  Helper functions to streamline data processing.  \n",
        "\n",
        "- ### **2.5 Data Loading**  \n",
        "  Load the dataset into a DataFrame or suitable data structure.  \n",
        "\n",
        "- ### **2.6 Basic Data Understanding**  \n",
        "  Perform initial data exploration, including shape, columns, and types.  \n",
        "\n",
        "</details>\n",
        "\n",
        "---\n",
        "\n",
        "<details>\n",
        "<summary><b>3. Data Preprocessing and Feature Engineering</b></summary>\n",
        "\n",
        "- ### **3.1 Cleaning**  \n",
        "\n",
        "- ### **3.2 Preprocessing**  \n",
        "\n",
        "- ### **3.3 Feature Extraction**  \n",
        "\n",
        "</details>\n",
        "\n",
        "---\n",
        "\n",
        "<details>\n",
        "<summary><b>4. Predictive Analysis</b></summary>\n",
        "\n",
        "- ### **4.1 Train-Test Data Split**  \n",
        "- ### **4.2 Classification with Simple Model**   \n",
        "  Choose a simple base classification model and train it on the preprocessed data. Assess model performance using metrics like accuracy, precision, and recall.\n",
        "- ### **4.3 Selecting Best Model for Feature Reduction**\n",
        "  Deploy several advanced classification models with feature interpretability.\n",
        "- ### **4.4 Feature Reduction Using Best Advanced Model**\n",
        "  Reducing dataset to most important features from best performing model.        \n",
        "- ### **4.5 Tuning Hyperparameters for Logistic Regression Model**\n",
        "  Use parameter grid search to find the best-performing model.  \n",
        "- ### **4.6 Improved Model Performance**\n",
        "  Assess model performance using metrics like accuracy, precision, and recall.\n",
        "- ### **4.7 Feature Interpretation**\n",
        "  Visualize results and discuss findings, including strengths and limitations.\n",
        "</details>\n",
        "\n",
        "---\n",
        "\n",
        "<details>\n",
        "<summary><b>5. Conclusion</b></summary>\n",
        "Summarize work.\n",
        "Summarize findings, including strengths and limitations.\n",
        "Suggest future work.\n",
        "</details>\n"
      ]
    },
    {
      "cell_type": "markdown",
      "id": "2836a232-89aa-4a22-9205-72dc03169293",
      "metadata": {
        "id": "2836a232-89aa-4a22-9205-72dc03169293"
      },
      "source": [
        "## 1.1 Business Problem and Objectives\n",
        "\n",
        "**Problem Statement:**\n",
        "**Key Questions:**\n",
        "**Project Objectives:**\n"
      ]
    },
    {
      "cell_type": "markdown",
      "id": "3828a3f4-ed95-4a95-899a-284a5a62c756",
      "metadata": {
        "id": "3828a3f4-ed95-4a95-899a-284a5a62c756"
      },
      "source": [
        "# 2. Data Acquisition and Preparation\n",
        "\n",
        "## 2.1. Data Understanding\n",
        "\n",
        "This section outlines the source of the data used in this project,  and provides instructions for downloading it.\n",
        "\n",
        "**Data Sources**\n",
        "**Data Relevance**\n",
        "**Data Limitations**\n",
        "**Download Instructions**\n",
        "**Data Storage**\n",
        "**Data Loading**"
      ]
    },
    {
      "cell_type": "markdown",
      "id": "259af49e-e19b-44dd-8cd3-8d0ea4b91298",
      "metadata": {
        "id": "259af49e-e19b-44dd-8cd3-8d0ea4b91298"
      },
      "source": [
        "## 2.2 Installing Required Modules\n",
        "\n",
        "This section focuses on installing the necessary Python libraries and packages required\n",
        "\n",
        "1. **Requirements File**\n",
        "    - We retrieve the list of required packages from a `requirements.txt` file hosted on GitHub using `wget`. This file contains the names and versions of all the dependencies.\n",
        "    - This ensures that we install the correct versions of the libraries for compatibility and reproducibility.\n",
        "2. **Installation using pip**\n",
        "    - We use Python's `pip` package manager to install the libraries listed in the `requirements.txt` file.\n",
        "    - The `-r` flag instructs `pip` to read the requirements file and install all the packages listed within."
      ]
    },
    {
      "cell_type": "markdown",
      "id": "0a6fdb28-b32a-42fc-96d6-5b91152aaa29",
      "metadata": {
        "id": "0a6fdb28-b32a-42fc-96d6-5b91152aaa29"
      },
      "source": [
        "Getting Data from **Kaggle:**\n",
        "\n",
        "This data is a part of the Kaggle's competition. You'll need to visit the data page and agree to terms and conditions, the data cannot be downloaded with the `kaggle -c` command."
      ]
    },
    {
      "cell_type": "code",
      "execution_count": 1,
      "id": "ac1d2134-685f-44ec-90a2-a295bedbc582",
      "metadata": {
        "id": "ac1d2134-685f-44ec-90a2-a295bedbc582"
      },
      "outputs": [],
      "source": [
        "# Supplemental functions to check for data files in `Downloads`\n",
        "import os\n",
        "import zipfile"
      ]
    },
    {
      "cell_type": "markdown",
      "source": [
        "# 2.3 Importing Modules and Global Variables"
      ],
      "metadata": {
        "id": "T2WlvK3LAd7W"
      },
      "id": "T2WlvK3LAd7W"
    },
    {
      "cell_type": "code",
      "execution_count": null,
      "id": "98debd5b-dbb3-4199-afe7-76dfa0a260c3",
      "metadata": {
        "id": "98debd5b-dbb3-4199-afe7-76dfa0a260c3"
      },
      "outputs": [],
      "source": []
    },
    {
      "cell_type": "markdown",
      "source": [
        "# 2.4 Defining Supplemental Functions"
      ],
      "metadata": {
        "id": "7djSu9J9AigW"
      },
      "id": "7djSu9J9AigW"
    },
    {
      "cell_type": "code",
      "source": [],
      "metadata": {
        "id": "peNnEX8QA12v"
      },
      "id": "peNnEX8QA12v",
      "execution_count": null,
      "outputs": []
    },
    {
      "cell_type": "markdown",
      "source": [
        "# 2.5 Data Loading"
      ],
      "metadata": {
        "id": "t_XyP8EKA1Xu"
      },
      "id": "t_XyP8EKA1Xu"
    },
    {
      "cell_type": "code",
      "source": [],
      "metadata": {
        "id": "h5UXYd8MA357"
      },
      "id": "h5UXYd8MA357",
      "execution_count": null,
      "outputs": []
    },
    {
      "cell_type": "markdown",
      "source": [
        "# 2.6 Basic Data Understanding"
      ],
      "metadata": {
        "id": "2rsAAP2iA48F"
      },
      "id": "2rsAAP2iA48F"
    },
    {
      "cell_type": "code",
      "source": [],
      "metadata": {
        "id": "7znT1_scA9lv"
      },
      "id": "7znT1_scA9lv",
      "execution_count": null,
      "outputs": []
    }
  ],
  "metadata": {
    "kernelspec": {
      "display_name": "Python (myenv)",
      "language": "python",
      "name": "myenv"
    },
    "language_info": {
      "codemirror_mode": {
        "name": "ipython",
        "version": 3
      },
      "file_extension": ".py",
      "mimetype": "text/x-python",
      "name": "python",
      "nbconvert_exporter": "python",
      "pygments_lexer": "ipython3",
      "version": "3.12.7"
    },
    "colab": {
      "provenance": []
    }
  },
  "nbformat": 4,
  "nbformat_minor": 5
}